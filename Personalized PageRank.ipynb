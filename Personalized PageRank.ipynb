{
 "cells": [
  {
   "cell_type": "markdown",
   "metadata": {},
   "source": [
    "# (Personalized) PageRank"
   ]
  },
  {
   "cell_type": "markdown",
   "metadata": {},
   "source": [
    "## Graph\n",
    "\n",
    "* **indegree**: number of incoming edges\n",
    "* **outdegree**: number of outward edges"
   ]
  },
  {
   "cell_type": "markdown",
   "metadata": {},
   "source": [
    "## PageRank\n",
    "Ranking vertices in a graph according to their structural importance.\n",
    "\n",
    "Given a link from v<sub>i</sub> to v<sub>j</sub>:\n",
    "*  vote is given from v<sub>i</sub> to v<sub>j</sub>\n",
    "* rank of v<sub>j</sub> increases\n",
    "* strength of vote depends on rank of v<sub>i</sub> \n",
    "\n",
    "\n",
    "\n",
    "P = cMP + (1-c)v\n",
    "\n",
    "Important terms\n",
    "* **first part**: voting scheme\n",
    "* **second part**: smoothing factor -> aperiodic + irreducible -> converges unique stationary distribution\n",
    "* **damping**: usually at 0.85, models first and second part\n",
    "* **v**: stochastic vector -> modifying this makes it **Personalized**"
   ]
  },
  {
   "cell_type": "markdown",
   "metadata": {},
   "source": [
    "## Personalized PageRank"
   ]
  },
  {
   "cell_type": "markdown",
   "metadata": {},
   "source": [
    "Given **input text**:\n",
    "* extract all content words (list *W<sub>i</sub>*)"
   ]
  },
  {
   "cell_type": "markdown",
   "metadata": {},
   "source": [
    "Insert **context words**\n",
    "* [DONE]: as nodes in the graph\n",
    "* [TODO]: link nodes with directed edges to their candidate concepts\n",
    "    * [QUESTION]: now using snap.PUNGraph, how can I add a directed link to this?\n",
    "* [TODO]: concentrating the initial probability mass uniformly over the newly introduced word\n",
    "nodes\n",
    "    * [QUESTION]: how?\n",
    "* [TODO]: run PageRank?"
   ]
  },
  {
   "cell_type": "code",
   "execution_count": 5,
   "metadata": {
    "collapsed": true
   },
   "outputs": [],
   "source": [
    "import snap"
   ]
  },
  {
   "cell_type": "code",
   "execution_count": 10,
   "metadata": {
    "collapsed": true
   },
   "outputs": [],
   "source": [
    "import wn_utils\n",
    "import snap_utils"
   ]
  },
  {
   "cell_type": "code",
   "execution_count": 11,
   "metadata": {
    "collapsed": true
   },
   "outputs": [],
   "source": [
    "lemmapos2mfs_offset = wn_utils.get_lemmapos2mfs_offset()\n",
    "the_candidates = wn_utils.get_candidates(lemmapos2mfs_offset)"
   ]
  },
  {
   "cell_type": "code",
   "execution_count": 7,
   "metadata": {
    "collapsed": true
   },
   "outputs": [],
   "source": [
    "edges = wn_utils.load_wn_edges(categories={'hyponym_hypernym', 'meronym_holonym', 'others'})"
   ]
  },
  {
   "cell_type": "code",
   "execution_count": 21,
   "metadata": {
    "collapsed": false
   },
   "outputs": [],
   "source": [
    "g = snap_utils.load_wn_as_undirected_graph(edges)"
   ]
  },
  {
   "cell_type": "code",
   "execution_count": 22,
   "metadata": {
    "collapsed": false
   },
   "outputs": [
    {
     "data": {
      "text/plain": [
       "108908"
      ]
     },
     "execution_count": 22,
     "metadata": {},
     "output_type": "execute_result"
    }
   ],
   "source": [
    "g.GetNodes()"
   ]
  },
  {
   "cell_type": "markdown",
   "metadata": {},
   "source": [
    "#### example sentence\n",
    "```\n",
    "Our fleet comprises coaches from 35 to 58 seats.\n",
    "```"
   ]
  },
  {
   "cell_type": "code",
   "execution_count": 18,
   "metadata": {
    "collapsed": false
   },
   "outputs": [],
   "source": [
    "content_words = {1 : ('fleet', 'n'),\n",
    "                 2: ('comprise', 'v'),\n",
    "                 3: ('coach', 'n'),\n",
    "                 4: ('seat', 'n')}"
   ]
  },
  {
   "cell_type": "markdown",
   "metadata": {},
   "source": [
    "#### add nodes to the graph"
   ]
  },
  {
   "cell_type": "code",
   "execution_count": 24,
   "metadata": {
    "collapsed": false
   },
   "outputs": [],
   "source": [
    "for identifier, (lemma, pos) in content_words.items():\n",
    "    g.AddNode(identifier)"
   ]
  },
  {
   "cell_type": "code",
   "execution_count": 25,
   "metadata": {
    "collapsed": false
   },
   "outputs": [
    {
     "data": {
      "text/plain": [
       "108912"
      ]
     },
     "execution_count": 25,
     "metadata": {},
     "output_type": "execute_result"
    }
   ],
   "source": [
    "g.GetNodes()"
   ]
  },
  {
   "cell_type": "code",
   "execution_count": null,
   "metadata": {
    "collapsed": true
   },
   "outputs": [],
   "source": []
  }
 ],
 "metadata": {
  "kernelspec": {
   "display_name": "Python 2",
   "language": "python",
   "name": "python2"
  },
  "language_info": {
   "codemirror_mode": {
    "name": "ipython",
    "version": 2
   },
   "file_extension": ".py",
   "mimetype": "text/x-python",
   "name": "python",
   "nbconvert_exporter": "python",
   "pygments_lexer": "ipython2",
   "version": "2.7.13"
  }
 },
 "nbformat": 4,
 "nbformat_minor": 2
}
