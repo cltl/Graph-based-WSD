{
 "cells": [
  {
   "cell_type": "code",
   "execution_count": 1,
   "metadata": {
    "collapsed": false
   },
   "outputs": [],
   "source": [
    "import wn_utils"
   ]
  },
  {
   "cell_type": "markdown",
   "metadata": {},
   "source": [
    "## Semantic relations in WordNet\n",
    "[The WordNet page](https://wordnet.princeton.edu/man/wngloss.7WN.html) explains most of the semantic relations.\n",
    "\n",
    "The most important semantic relations are:\n",
    "* **hyponym/hypernym**\n",
    "* **meronym/holonym**\n",
    "* **rest category**: which contains low-frequent semantic relations such as *attributes*, *entailments*, *causes*, *also_sees*, *verb_groups*, *similar_tos*"
   ]
  },
  {
   "cell_type": "code",
   "execution_count": 2,
   "metadata": {
    "collapsed": true
   },
   "outputs": [],
   "source": [
    "sem_rel_categories2attributes = {\n",
    "    'hyponym_hypernym' : {'hypernyms', 'instance_hypernyms', 'hyponyms', 'instance_hyponyms'},\n",
    "    'meronym_holonym' : {'member_holonyms', 'substance_holonyms', 'part_holonyms', \n",
    "                         'member_meronyms', 'substance_meronyms', 'part_meronyms'},\n",
    "    'others' : {'attributes', 'entailments', 'causes', 'also_sees', 'verb_groups',\n",
    "                'similar_tos'}\n",
    "}"
   ]
  },
  {
   "cell_type": "code",
   "execution_count": 3,
   "metadata": {
    "collapsed": false
   },
   "outputs": [
    {
     "name": "stdout",
     "output_type": "stream",
     "text": [
      "\n",
      "(Synset('person.n.01'), u'a human being')\n",
      "member_holonyms\n",
      "(Synset('people.n.01'), u'(plural) any group of human beings (men or women or children) collectively')\n"
     ]
    }
   ],
   "source": [
    "wn_utils.example_synset_of_relation('member_holonyms')"
   ]
  },
  {
   "cell_type": "markdown",
   "metadata": {},
   "source": [
    "#### frequency of types of semantic relations in WordNet"
   ]
  },
  {
   "cell_type": "code",
   "execution_count": 4,
   "metadata": {
    "collapsed": false
   },
   "outputs": [],
   "source": [
    "freqs_sem_rels = wn_utils.sem_rels_freqs(sem_rel_categories2attributes,\n",
    "                                         perc=False)"
   ]
  },
  {
   "cell_type": "code",
   "execution_count": 5,
   "metadata": {
    "collapsed": false
   },
   "outputs": [
    {
     "data": {
      "text/html": [
       "<div>\n",
       "<table border=\"1\" class=\"dataframe\">\n",
       "  <thead>\n",
       "    <tr style=\"text-align: right;\">\n",
       "      <th></th>\n",
       "      <th>pos</th>\n",
       "      <th>all_relations</th>\n",
       "      <th>meronym_holonym</th>\n",
       "      <th>hyponym_hypernym</th>\n",
       "      <th>others</th>\n",
       "    </tr>\n",
       "  </thead>\n",
       "  <tbody>\n",
       "    <tr>\n",
       "      <th>0</th>\n",
       "      <td>all</td>\n",
       "      <td>134076</td>\n",
       "      <td>22187</td>\n",
       "      <td>97666</td>\n",
       "      <td>14247</td>\n",
       "    </tr>\n",
       "    <tr>\n",
       "      <th>1</th>\n",
       "      <td>n</td>\n",
       "      <td>107253</td>\n",
       "      <td>22187</td>\n",
       "      <td>84427</td>\n",
       "      <td>639</td>\n",
       "    </tr>\n",
       "    <tr>\n",
       "      <th>2</th>\n",
       "      <td>v</td>\n",
       "      <td>14693</td>\n",
       "      <td>0</td>\n",
       "      <td>13239</td>\n",
       "      <td>1478</td>\n",
       "    </tr>\n",
       "    <tr>\n",
       "      <th>3</th>\n",
       "      <td>a</td>\n",
       "      <td>12769</td>\n",
       "      <td>0</td>\n",
       "      <td>0</td>\n",
       "      <td>12769</td>\n",
       "    </tr>\n",
       "    <tr>\n",
       "      <th>4</th>\n",
       "      <td>r</td>\n",
       "      <td>0</td>\n",
       "      <td>0</td>\n",
       "      <td>0</td>\n",
       "      <td>0</td>\n",
       "    </tr>\n",
       "  </tbody>\n",
       "</table>\n",
       "</div>"
      ],
      "text/plain": [
       "   pos  all_relations  meronym_holonym  hyponym_hypernym  others\n",
       "0  all         134076            22187             97666   14247\n",
       "1    n         107253            22187             84427     639\n",
       "2    v          14693                0             13239    1478\n",
       "3    a          12769                0                 0   12769\n",
       "4    r              0                0                 0       0"
      ]
     },
     "execution_count": 5,
     "metadata": {},
     "output_type": "execute_result"
    }
   ],
   "source": [
    "freqs_sem_rels"
   ]
  }
 ],
 "metadata": {
  "kernelspec": {
   "display_name": "Python 2",
   "language": "python",
   "name": "python2"
  },
  "language_info": {
   "codemirror_mode": {
    "name": "ipython",
    "version": 2
   },
   "file_extension": ".py",
   "mimetype": "text/x-python",
   "name": "python",
   "nbconvert_exporter": "python",
   "pygments_lexer": "ipython2",
   "version": "2.7.13"
  }
 },
 "nbformat": 4,
 "nbformat_minor": 2
}
