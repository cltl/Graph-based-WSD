{
 "cells": [
  {
   "cell_type": "code",
   "execution_count": 1,
   "metadata": {
    "collapsed": true
   },
   "outputs": [],
   "source": [
    "import snap\n",
    "from collections import Counter\n",
    "import pandas"
   ]
  },
  {
   "cell_type": "code",
   "execution_count": 2,
   "metadata": {
    "collapsed": false
   },
   "outputs": [],
   "source": [
    "import wn_utils\n",
    "import snap_utils\n",
    "import utils"
   ]
  },
  {
   "cell_type": "markdown",
   "metadata": {},
   "source": [
    "# Discussion points\n",
    "* representation WordNet (undirected vs directed)\n",
    "* Semantic relations to include\n",
    "* implementation:\n",
    "    * introduce fake root for verbs\n",
    "    * I assume for now that relation between two synsets is one-to-one"
   ]
  },
  {
   "cell_type": "markdown",
   "metadata": {},
   "source": [
    "#### Representation WordNet\n",
    "For now, I followed the [UKB](http://aclweb.org/anthology/J14-1003) and represent WordNet as an undirected graph, based on this sentence from the paper (Section 3.1):\n",
    "```\n",
    "We chose to use undirected relations between concepts, because most of the relations are symmetric\n",
    "and have their inverse counterpart (cf. Section 3), and in preliminary work we failed to\n",
    "see any effect using directed relations.\n",
    "```"
   ]
  },
  {
   "cell_type": "code",
   "execution_count": 3,
   "metadata": {
    "collapsed": false
   },
   "outputs": [],
   "source": [
    "lemmapos2mfs_offset = wn_utils.get_lemmapos2mfs_offset()\n",
    "the_candidates = wn_utils.get_candidates(lemmapos2mfs_offset)"
   ]
  },
  {
   "cell_type": "code",
   "execution_count": 4,
   "metadata": {
    "collapsed": false
   },
   "outputs": [],
   "source": [
    "combinations = [\n",
    "    {'hyponym_hypernym'},\n",
    "    {'meronym_holonym'},\n",
    "    {'others'},\n",
    "    {'hyponym_hypernym', 'meronym_holonym', 'others'}\n",
    "]\n",
    "perc = True \n",
    "keys = [1, 2, 3, '4>']\n",
    "\n",
    "lists_of_lists = []\n",
    "headers = ['categories', '#nodes', '#edges', '#lemma_pos', 1, 2, 3, '4>']\n",
    "\n",
    "for categories in combinations:\n",
    "    edges = wn_utils.load_wn_edges(categories=categories)\n",
    "    num_edges = len(edges)\n",
    "    \n",
    "    mfs_pr_values, num_nodes = snap_utils.distr_mfs_pr_rank(edges,\n",
    "                                                            lemmapos2mfs_offset,\n",
    "                                                            the_candidates)\n",
    "    num_lemma_pos = len(mfs_pr_values)\n",
    "    \n",
    "    table_mfs_pr_values = [number if number <= 3 else '4>'\n",
    "                           for number in mfs_pr_values]\n",
    "    distribution = Counter(table_mfs_pr_values)\n",
    "    values = [distribution[key] for key in keys]\n",
    "\n",
    "    if perc:\n",
    "        total = sum(distribution.values())\n",
    "        values = [round((100 * (float(value) / float(total))), 2)\n",
    "                  for value in values]\n",
    "    \n",
    "    one_row = [categories, num_nodes, num_edges, num_lemma_pos] + values\n",
    "    lists_of_lists.append(one_row)"
   ]
  },
  {
   "cell_type": "code",
   "execution_count": 5,
   "metadata": {
    "collapsed": false
   },
   "outputs": [],
   "source": [
    "df = pandas.DataFrame(lists_of_lists, columns=headers)"
   ]
  },
  {
   "cell_type": "markdown",
   "metadata": {},
   "source": [
    "## Relation Pagerank and the most frequent sense\n",
    "WordNet defines for each lemma, pos combination, e.g. the **noun horse** a dominant sense, \n",
    "which is partly determined by corpora frequency and partially by manually.\n",
    "\n",
    "The table below shows how the rank according to senseranks in WordNet correlate with the rank according to PageRank.\n",
    "The meaning of each column is as follows:\n",
    "* **categories**: the relations used to build the undirected graph.\n",
    "* **#nodes**: number of nodes in the graph (nodes are only in the graph if there are linked with a relation from categories)\n",
    "* **#edges**: number of edges in the graph (nodes are only in the graph if there are linked with a relation from categories)\n",
    "* **1**: for all non-monosemous lemma, pos combinations, the % for which the MFS is ranked **1st according to Pagerank**\n",
    "* **2**: for all non-monosemous lemma, pos combinations, the % for which the MFS is ranked **2nd according to Pagerank**\n",
    "* **3**: for all non-monosemous lemma, pos combinations, the % for which the MFS is ranked **3rd according to Pagerank**\n",
    "* **4**: for all non-monosemous lemma, pos combinations, the % for which the MFS is ranked **4th or higher according to Pagerank**\n"
   ]
  },
  {
   "cell_type": "code",
   "execution_count": 6,
   "metadata": {
    "collapsed": false
   },
   "outputs": [
    {
     "data": {
      "text/html": [
       "<div>\n",
       "<table border=\"1\" class=\"dataframe\">\n",
       "  <thead>\n",
       "    <tr style=\"text-align: right;\">\n",
       "      <th></th>\n",
       "      <th>categories</th>\n",
       "      <th>#nodes</th>\n",
       "      <th>#edges</th>\n",
       "      <th>#lemma_pos</th>\n",
       "      <th>1</th>\n",
       "      <th>2</th>\n",
       "      <th>3</th>\n",
       "      <th>4&gt;</th>\n",
       "    </tr>\n",
       "  </thead>\n",
       "  <tbody>\n",
       "    <tr>\n",
       "      <th>0</th>\n",
       "      <td>{hyponym_hypernym}</td>\n",
       "      <td>95585</td>\n",
       "      <td>97666</td>\n",
       "      <td>17730</td>\n",
       "      <td>47.81</td>\n",
       "      <td>36.23</td>\n",
       "      <td>9.46</td>\n",
       "      <td>6.50</td>\n",
       "    </tr>\n",
       "    <tr>\n",
       "      <th>1</th>\n",
       "      <td>{meronym_holonym}</td>\n",
       "      <td>23153</td>\n",
       "      <td>22187</td>\n",
       "      <td>17730</td>\n",
       "      <td>61.18</td>\n",
       "      <td>24.46</td>\n",
       "      <td>7.20</td>\n",
       "      <td>7.16</td>\n",
       "    </tr>\n",
       "    <tr>\n",
       "      <th>2</th>\n",
       "      <td>{others}</td>\n",
       "      <td>15976</td>\n",
       "      <td>14247</td>\n",
       "      <td>17730</td>\n",
       "      <td>65.35</td>\n",
       "      <td>20.76</td>\n",
       "      <td>7.23</td>\n",
       "      <td>6.66</td>\n",
       "    </tr>\n",
       "    <tr>\n",
       "      <th>3</th>\n",
       "      <td>{meronym_holonym, hyponym_hypernym, others}</td>\n",
       "      <td>108908</td>\n",
       "      <td>134076</td>\n",
       "      <td>17730</td>\n",
       "      <td>45.66</td>\n",
       "      <td>39.10</td>\n",
       "      <td>9.35</td>\n",
       "      <td>5.89</td>\n",
       "    </tr>\n",
       "  </tbody>\n",
       "</table>\n",
       "</div>"
      ],
      "text/plain": [
       "                                    categories  #nodes  #edges  #lemma_pos  \\\n",
       "0                           {hyponym_hypernym}   95585   97666       17730   \n",
       "1                            {meronym_holonym}   23153   22187       17730   \n",
       "2                                     {others}   15976   14247       17730   \n",
       "3  {meronym_holonym, hyponym_hypernym, others}  108908  134076       17730   \n",
       "\n",
       "       1      2     3    4>  \n",
       "0  47.81  36.23  9.46  6.50  \n",
       "1  61.18  24.46  7.20  7.16  \n",
       "2  65.35  20.76  7.23  6.66  \n",
       "3  45.66  39.10  9.35  5.89  "
      ]
     },
     "execution_count": 6,
     "metadata": {},
     "output_type": "execute_result"
    }
   ],
   "source": [
    "df"
   ]
  }
 ],
 "metadata": {
  "kernelspec": {
   "display_name": "Python 2",
   "language": "python",
   "name": "python2"
  },
  "language_info": {
   "codemirror_mode": {
    "name": "ipython",
    "version": 2
   },
   "file_extension": ".py",
   "mimetype": "text/x-python",
   "name": "python",
   "nbconvert_exporter": "python",
   "pygments_lexer": "ipython2",
   "version": "2.7.13"
  }
 },
 "nbformat": 4,
 "nbformat_minor": 2
}
